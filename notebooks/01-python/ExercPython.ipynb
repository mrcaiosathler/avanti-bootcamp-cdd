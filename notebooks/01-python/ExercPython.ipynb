{
 "cells": [
  {
   "cell_type": "code",
   "execution_count": 2,
   "id": "8bf3ab30-2927-4127-8334-a6ba0c86dcf9",
   "metadata": {
    "collapsed": true,
    "jupyter": {
     "outputs_hidden": true
    },
    "scrolled": true
   },
   "outputs": [
    {
     "name": "stdin",
     "output_type": "stream",
     "text": [
      "Digite o primeiro número inteiro:  30\n",
      "Digite o segundo número inteiro:  45\n"
     ]
    },
    {
     "name": "stdout",
     "output_type": "stream",
     "text": [
      "Soma: 75\n",
      "Subtração: -15\n",
      "Multiplicação: 1350\n",
      "Divisão: 0.6666666666666666\n"
     ]
    }
   ],
   "source": [
    "#Exercício Individual #1\n",
    "\n",
    "#Exercício de Variáveis e Operadores - A\n",
    "\n",
    "# Pedindo ao usuário para inserir dois números inteiros\n",
    "numero1 = int(input(\"Digite o primeiro número inteiro: \"))\n",
    "numero2 = int(input(\"Digite o segundo número inteiro: \"))\n",
    "\n",
    "# Operações\n",
    "soma = numero1 + numero2\n",
    "subtracao = numero1 - numero2\n",
    "multiplicacao = numero1 * numero2\n",
    "\n",
    "# Verificar se divisão é possível\n",
    "if numero1 and numero2 !=0:\n",
    "    divisao = numero1 / numero2\n",
    "else:\n",
    "    divisao = \"Não é possível dividir por zero\"\n",
    "\n",
    "# Exibir resultados\n",
    "print(\"Soma:\", soma)\n",
    "print(\"Subtração:\", subtracao)\n",
    "print(\"Multiplicação:\", multiplicacao)\n",
    "print(\"Divisão:\", divisao)"
   ]
  },
  {
   "cell_type": "code",
   "execution_count": 7,
   "id": "50bfb564-8f09-4224-bd4e-1c15717203e7",
   "metadata": {
    "collapsed": true,
    "jupyter": {
     "outputs_hidden": true
    }
   },
   "outputs": [
    {
     "name": "stdin",
     "output_type": "stream",
     "text": [
      "Digite o raio do círculo:  35\n"
     ]
    },
    {
     "name": "stdout",
     "output_type": "stream",
     "text": [
      "A área do círculo é: 3848.4510006474966\n"
     ]
    }
   ],
   "source": [
    "#Exercício de Variáveis e Operadores - B\n",
    "\n",
    "#Importar biblioteca\n",
    "import math\n",
    "\n",
    "# Pedindo ao usuário para inserir o raio do círculo\n",
    "raio = float(input(\"Digite o raio do círculo: \"))\n",
    "\n",
    "# Calculando a área do círculo usando a fórmula A = π * r^2\n",
    "area = math.pi * raio ** 2\n",
    "\n",
    "# Exibindo a área do círculo\n",
    "print(\"A área do círculo é:\", area)\n"
   ]
  },
  {
   "cell_type": "code",
   "execution_count": 10,
   "id": "c5c67648-95a2-4923-be5c-a4358d1533a3",
   "metadata": {
    "collapsed": true,
    "jupyter": {
     "outputs_hidden": true
    }
   },
   "outputs": [
    {
     "name": "stdin",
     "output_type": "stream",
     "text": [
      "Digite sua idade:  17\n"
     ]
    },
    {
     "name": "stdout",
     "output_type": "stream",
     "text": [
      "Você é menor de idade.\n"
     ]
    }
   ],
   "source": [
    "#Exercício de Estruturas de Seleção e Repetição  - A\n",
    "\n",
    "# Pedindo ao usuário para inserir sua idade\n",
    "idade = int(input(\"Digite sua idade: \"))\n",
    "\n",
    "# Verificando se a idade é menor que 18\n",
    "if idade < 18:\n",
    "    print(\"Você é menor de idade.\")\n",
    "else:\n",
    "    print(\"Você é maior de idade.\")\n",
    "\n"
   ]
  },
  {
   "cell_type": "code",
   "execution_count": 12,
   "id": "651ef9ac-549c-4a3a-bd56-34de7f280968",
   "metadata": {
    "collapsed": true,
    "jupyter": {
     "outputs_hidden": true
    }
   },
   "outputs": [
    {
     "name": "stdout",
     "output_type": "stream",
     "text": [
      "Tente adivinhar o número secreto entre 1 e 100.\n"
     ]
    },
    {
     "name": "stdin",
     "output_type": "stream",
     "text": [
      "Digite seu palpite:  33\n"
     ]
    },
    {
     "name": "stdout",
     "output_type": "stream",
     "text": [
      "Seu palpite é maior que o número secreto.\n"
     ]
    },
    {
     "name": "stdin",
     "output_type": "stream",
     "text": [
      "Digite seu palpite:  10\n"
     ]
    },
    {
     "name": "stdout",
     "output_type": "stream",
     "text": [
      "Seu palpite é menor que o número secreto.\n"
     ]
    },
    {
     "name": "stdin",
     "output_type": "stream",
     "text": [
      "Digite seu palpite:  20\n"
     ]
    },
    {
     "name": "stdout",
     "output_type": "stream",
     "text": [
      "Seu palpite é maior que o número secreto.\n"
     ]
    },
    {
     "name": "stdin",
     "output_type": "stream",
     "text": [
      "Digite seu palpite:  18\n"
     ]
    },
    {
     "name": "stdout",
     "output_type": "stream",
     "text": [
      "Parabéns! Você acertou o número secreto (18) em 4 tentativas.\n"
     ]
    }
   ],
   "source": [
    "#Exercício de Estruturas de Seleção e Repetição  - B\n",
    "\n",
    "#Importar biblioteca\n",
    "import random\n",
    "\n",
    "# Gerando um número secreto aleatório entre 1 e 100\n",
    "numero_secreto = random.randint(1, 100)\n",
    "\n",
    "tentativas = 0\n",
    "adivinhou = False\n",
    "\n",
    "print(\"Tente adivinhar o número secreto entre 1 e 100.\")\n",
    "\n",
    "while not adivinhou:\n",
    "    palpite = int(input(\"Digite seu palpite: \"))\n",
    "    tentativas += 1\n",
    "    \n",
    "    if palpite < numero_secreto:\n",
    "        print(\"Seu palpite é menor que o número secreto.\")\n",
    "    elif palpite > numero_secreto:\n",
    "        print(\"Seu palpite é maior que o número secreto.\")\n",
    "    else:\n",
    "        print(f\"Parabéns! Você acertou o número secreto ({numero_secreto}) em {tentativas} tentativas.\")\n",
    "        adivinhou = True\n"
   ]
  },
  {
   "cell_type": "code",
   "execution_count": 3,
   "id": "53d6b8b7-b266-4e99-a523-8c12826244d7",
   "metadata": {
    "collapsed": true,
    "jupyter": {
     "outputs_hidden": true
    }
   },
   "outputs": [
    {
     "name": "stdout",
     "output_type": "stream",
     "text": [
      "Elementos da lista:\n",
      "10\n",
      "20\n",
      "30\n",
      "40\n",
      "50\n"
     ]
    }
   ],
   "source": [
    "#Exercício de Coleções  - A\n",
    "\n",
    "# Criando uma lista de 5 números inteiros\n",
    "numeros = [10, 20, 30, 40, 50]\n",
    "\n",
    "# Imprimindo os elementos da lista\n",
    "print(\"Elementos da lista:\")\n",
    "for numero in numeros:\n",
    "    print(numero)\n"
   ]
  },
  {
   "cell_type": "code",
   "execution_count": 1,
   "id": "d58278af-2757-48a2-9b9e-cf017d3fb91c",
   "metadata": {
    "collapsed": true,
    "jupyter": {
     "outputs_hidden": true
    }
   },
   "outputs": [
    {
     "name": "stdin",
     "output_type": "stream",
     "text": [
      "Digite o nome de um animal:  cavalo\n"
     ]
    },
    {
     "name": "stdout",
     "output_type": "stream",
     "text": [
      "Cavalo não está na lista de animais.\n"
     ]
    }
   ],
   "source": [
    "#Exercício de Coleções  - B\n",
    "\n",
    "# Criando uma tupla com nomes de animais\n",
    "nomes_animais = (\"Cachorro\", \"Gato\", \"Elefante\", \"Leão\", \"Girafa\")\n",
    "\n",
    "# Solicitando ao usuário para digitar o nome de um animal\n",
    "animal_digitado = input(\"Digite o nome de um animal: \").lower()  # Convertendo para minúsculas\n",
    "\n",
    "# Verificando se o animal está presente na tupla (em minúsculas)\n",
    "if animal_digitado in [animal.lower() for animal in nomes_animais]:\n",
    "    print(f\"{animal_digitado.capitalize()} está presente na lista de animais.\")  # Recapitalizando a primeira letra\n",
    "else:\n",
    "    print(f\"{animal_digitado.capitalize()} não está na lista de animais.\")\n",
    "\n"
   ]
  },
  {
   "cell_type": "code",
   "execution_count": 16,
   "id": "38d61b8e-7fb5-42cc-bfad-34b4c38566ed",
   "metadata": {
    "collapsed": true,
    "jupyter": {
     "outputs_hidden": true
    }
   },
   "outputs": [
    {
     "name": "stdin",
     "output_type": "stream",
     "text": [
      "Digite seu nome:  Dimitri\n"
     ]
    },
    {
     "name": "stdout",
     "output_type": "stream",
     "text": [
      "Olá, Dimitri! Bem-vindo(a)!\n"
     ]
    }
   ],
   "source": [
    "#Exercício de Reutilização de código  - A\n",
    "\n",
    "def saudacao(nome):\n",
    "    print(f\"Olá, {nome}! Bem-vindo(a)!\")\n",
    "\n",
    "# Chamando a função e passando o nome como argumento\n",
    "nome_da_pessoa = input(\"Digite seu nome: \")\n",
    "saudacao(nome_da_pessoa)\n"
   ]
  },
  {
   "cell_type": "code",
   "execution_count": 20,
   "id": "f7f290fa-e349-427a-9d53-d5d11b32e605",
   "metadata": {
    "collapsed": true,
    "jupyter": {
     "outputs_hidden": true
    }
   },
   "outputs": [
    {
     "name": "stdin",
     "output_type": "stream",
     "text": [
      "Digite um número para verificar se é primo:  10\n"
     ]
    },
    {
     "name": "stdout",
     "output_type": "stream",
     "text": [
      "10 não é um número primo.\n"
     ]
    }
   ],
   "source": [
    "#Exercício de Reutilizaçõa de código - B\n",
    "#IMPORTANTE: O módulo se chamará primo_checker e está separado deste notebook\n",
    "\n",
    "from primo_checker import is_prime\n",
    "\n",
    "numero = int(input(\"Digite um número para verificar se é primo: \"))\n",
    "\n",
    "if is_prime(numero):\n",
    "    print(f\"{numero} é um número primo.\")\n",
    "else:\n",
    "    print(f\"{numero} não é um número primo.\")\n"
   ]
  },
  {
   "cell_type": "code",
   "execution_count": null,
   "id": "1648ed1b-648c-4f2c-91af-292a7f59ba49",
   "metadata": {},
   "outputs": [],
   "source": []
  }
 ],
 "metadata": {
  "kernelspec": {
   "display_name": "Python 3 (ipykernel)",
   "language": "python",
   "name": "python3"
  },
  "language_info": {
   "codemirror_mode": {
    "name": "ipython",
    "version": 3
   },
   "file_extension": ".py",
   "mimetype": "text/x-python",
   "name": "python",
   "nbconvert_exporter": "python",
   "pygments_lexer": "ipython3",
   "version": "3.11.4"
  }
 },
 "nbformat": 4,
 "nbformat_minor": 5
}
