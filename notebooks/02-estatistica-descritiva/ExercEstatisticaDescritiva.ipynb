{
 "cells": [
  {
   "cell_type": "code",
   "execution_count": 5,
   "id": "889bcdff-0f5d-4228-a9a0-2c228e651be0",
   "metadata": {
    "collapsed": true,
    "jupyter": {
     "outputs_hidden": true,
     "source_hidden": true
    }
   },
   "outputs": [
    {
     "name": "stdout",
     "output_type": "stream",
     "text": [
      "Descrição do conjunto de dados Penguins:\n",
      "       bill_length_mm  bill_depth_mm  flipper_length_mm  body_mass_g\n",
      "count      342.000000     342.000000         342.000000   342.000000\n",
      "mean        43.921930      17.151170         200.915205  4201.754386\n",
      "std          5.459584       1.974793          14.061714   801.954536\n",
      "min         32.100000      13.100000         172.000000  2700.000000\n",
      "25%         39.225000      15.600000         190.000000  3550.000000\n",
      "50%         44.450000      17.300000         197.000000  4050.000000\n",
      "75%         48.500000      18.700000         213.000000  4750.000000\n",
      "max         59.600000      21.500000         231.000000  6300.000000\n",
      "Estatísticas de variáveis categóricas:\n"
     ]
    }
   ],
   "source": [
    "#Exercício Individual #2\n",
    "\n",
    "#Importar bibliotecas para uso geral:\n",
    "import seaborn as sns\n",
    "import pandas as pd\n",
    "import numpy as np\n",
    "\n",
    "\n",
    "#Exercício de Estatística Descritiva - Conjunto de Dados Penguin\n",
    "\n",
    "#1. Carregar conjunto de dados\n",
    "penguins = sns.load_dataset(\"penguins\")\n",
    "\n",
    "#2. Criar dicionário de dados\n",
    "penguins_dict = penguins.to_dict()\n",
    "\n",
    "#3. Descrever os dados usando estatísticas de tendência central e dispersão\n",
    "penguins_description = penguins.describe()\n",
    "print(\"Descrição do conjunto de dados Penguins:\")\n",
    "print(penguins_description)\n",
    "\n",
    "#4. Calcular estatísticas de forma separada para cada variável categórica\n",
    "categorical_columns = penguins.select_dtypes(include='category').columns\n",
    "categorical_stats = {}\n",
    "\n",
    "for column in categorical_columns:\n",
    "    categorical_stats[column] = {\n",
    "        \"Valores Únicos\": penguins[column].unique(),\n",
    "        \"Contagem de Valores\": penguins[column].value_counts(),\n",
    "    }\n",
    "\n",
    "print(\"Estatísticas de variáveis categóricas:\")\n",
    "for column, stats in categorical_stats.items():\n",
    "    print(f\"\\nColuna: {column}\")\n",
    "    print(stats)"
   ]
  },
  {
   "cell_type": "code",
   "execution_count": 10,
   "id": "d2f4fd4c-81a7-466d-aa43-30d8ab231b9b",
   "metadata": {
    "collapsed": true,
    "jupyter": {
     "outputs_hidden": true,
     "source_hidden": true
    }
   },
   "outputs": [
    {
     "name": "stdout",
     "output_type": "stream",
     "text": [
      "Descrição do conjunto de dados Tips:\n",
      "       total_bill         tip        size\n",
      "count  244.000000  244.000000  244.000000\n",
      "mean    19.785943    2.998279    2.569672\n",
      "std      8.902412    1.383638    0.951100\n",
      "min      3.070000    1.000000    1.000000\n",
      "25%     13.347500    2.000000    2.000000\n",
      "50%     17.795000    2.900000    2.000000\n",
      "75%     24.127500    3.562500    3.000000\n",
      "max     50.810000   10.000000    6.000000\n",
      "\n",
      "Estatísticas de variáveis categóricas:\n",
      "{'sex': sex\n",
      "Male      157\n",
      "Female     87\n",
      "Name: count, dtype: int64, 'smoker': smoker\n",
      "No     151\n",
      "Yes     93\n",
      "Name: count, dtype: int64, 'day': day\n",
      "Sat     87\n",
      "Sun     76\n",
      "Thur    62\n",
      "Fri     19\n",
      "Name: count, dtype: int64, 'time': time\n",
      "Dinner    176\n",
      "Lunch      68\n",
      "Name: count, dtype: int64}\n"
     ]
    }
   ],
   "source": [
    "#Exercício de Estatística Descritiva - Conjunto de Dados Tips\n",
    "\n",
    "#1. Carregar conjunto de dados\n",
    "tips = sns.load_dataset(\"tips\")\n",
    "\n",
    "#2. Criar dicionário de dados\n",
    "tips_dict = tips.to_dict()\n",
    "\n",
    "#3. Descrever os dados usando estatísticas de tendência central e dispersão\n",
    "tips_description = tips.describe()\n",
    "print(\"Descrição do conjunto de dados Tips:\")\n",
    "print(tips_description)\n",
    "\n",
    "#4. Calcular estatísticas de forma separada para cada variável categórica\n",
    "categorical_stats = {}\n",
    "for column in tips.select_dtypes(include=['category']):\n",
    "    categorical_stats[column] = tips[column].value_counts()\n",
    "\n",
    "print(\"\\nEstatísticas de variáveis categóricas:\")\n",
    "print(categorical_stats)\n"
   ]
  },
  {
   "cell_type": "code",
   "execution_count": 11,
   "id": "b227a8d2-8456-45c1-ac4a-acd35ad9495f",
   "metadata": {
    "collapsed": true,
    "jupyter": {
     "outputs_hidden": true,
     "source_hidden": true
    }
   },
   "outputs": [
    {
     "name": "stdout",
     "output_type": "stream",
     "text": [
      "Descrição do conjunto de dados Titanic:\n",
      "          survived      pclass   sex         age       sibsp       parch  \\\n",
      "count   891.000000  891.000000   891  714.000000  891.000000  891.000000   \n",
      "unique         NaN         NaN     2         NaN         NaN         NaN   \n",
      "top            NaN         NaN  male         NaN         NaN         NaN   \n",
      "freq           NaN         NaN   577         NaN         NaN         NaN   \n",
      "mean      0.383838    2.308642   NaN   29.699118    0.523008    0.381594   \n",
      "std       0.486592    0.836071   NaN   14.526497    1.102743    0.806057   \n",
      "min       0.000000    1.000000   NaN    0.420000    0.000000    0.000000   \n",
      "25%       0.000000    2.000000   NaN   20.125000    0.000000    0.000000   \n",
      "50%       0.000000    3.000000   NaN   28.000000    0.000000    0.000000   \n",
      "75%       1.000000    3.000000   NaN   38.000000    1.000000    0.000000   \n",
      "max       1.000000    3.000000   NaN   80.000000    8.000000    6.000000   \n",
      "\n",
      "              fare embarked  class  who adult_male deck  embark_town alive  \\\n",
      "count   891.000000      889    891  891        891  203          889   891   \n",
      "unique         NaN        3      3    3          2    7            3     2   \n",
      "top            NaN        S  Third  man       True    C  Southampton    no   \n",
      "freq           NaN      644    491  537        537   59          644   549   \n",
      "mean     32.204208      NaN    NaN  NaN        NaN  NaN          NaN   NaN   \n",
      "std      49.693429      NaN    NaN  NaN        NaN  NaN          NaN   NaN   \n",
      "min       0.000000      NaN    NaN  NaN        NaN  NaN          NaN   NaN   \n",
      "25%       7.910400      NaN    NaN  NaN        NaN  NaN          NaN   NaN   \n",
      "50%      14.454200      NaN    NaN  NaN        NaN  NaN          NaN   NaN   \n",
      "75%      31.000000      NaN    NaN  NaN        NaN  NaN          NaN   NaN   \n",
      "max     512.329200      NaN    NaN  NaN        NaN  NaN          NaN   NaN   \n",
      "\n",
      "       alone  \n",
      "count    891  \n",
      "unique     2  \n",
      "top     True  \n",
      "freq     537  \n",
      "mean     NaN  \n",
      "std      NaN  \n",
      "min      NaN  \n",
      "25%      NaN  \n",
      "50%      NaN  \n",
      "75%      NaN  \n",
      "max      NaN  \n",
      "\n",
      "Estatísticas de variáveis categóricas:\n",
      "{'class': class\n",
      "Third     491\n",
      "First     216\n",
      "Second    184\n",
      "Name: count, dtype: int64, 'deck': deck\n",
      "C    59\n",
      "B    47\n",
      "D    33\n",
      "E    32\n",
      "A    15\n",
      "F    13\n",
      "G     4\n",
      "Name: count, dtype: int64}\n"
     ]
    }
   ],
   "source": [
    "#Exercício de Estatística Descritiva - Conjunto de Dados Titanic\n",
    "\n",
    "#1. Carregar conjunto de dados\n",
    "titanic = sns.load_dataset(\"titanic\")\n",
    "\n",
    "#2. Criar dicionário de dados\n",
    "titanic_dict = titanic.to_dict()\n",
    "\n",
    "#3. Descrever os dados usando estatísticas de tendência central e dispersão\n",
    "titanic_description = titanic.describe(include='all')\n",
    "print(\"Descrição do conjunto de dados Titanic:\")\n",
    "print(titanic_description)\n",
    "\n",
    "#4. Calcular estatísticas de forma separada para cada variável categórica\n",
    "categorical_stats = {}\n",
    "for column in titanic.select_dtypes(include=['category']):\n",
    "    categorical_stats[column] = titanic[column].value_counts()\n",
    "\n",
    "print(\"\\nEstatísticas de variáveis categóricas:\")\n",
    "print(categorical_stats)\n"
   ]
  },
  {
   "cell_type": "code",
   "execution_count": 13,
   "id": "7bf862c7-c4d0-4c9d-af7c-01ebaa83e6aa",
   "metadata": {
    "collapsed": true,
    "jupyter": {
     "outputs_hidden": true,
     "source_hidden": true
    }
   },
   "outputs": [
    {
     "name": "stdout",
     "output_type": "stream",
     "text": [
      "Descrição do conjunto de dados Anscombe:\n",
      "       dataset          x          y\n",
      "count       44  44.000000  44.000000\n",
      "unique       4        NaN        NaN\n",
      "top          I        NaN        NaN\n",
      "freq        11        NaN        NaN\n",
      "mean       NaN   9.000000   7.500682\n",
      "std        NaN   3.198837   1.958925\n",
      "min        NaN   4.000000   3.100000\n",
      "25%        NaN   7.000000   6.117500\n",
      "50%        NaN   8.000000   7.520000\n",
      "75%        NaN  11.000000   8.747500\n",
      "max        NaN  19.000000  12.740000\n",
      "\n",
      "Estatísticas de variáveis categóricas:\n",
      "{}\n"
     ]
    }
   ],
   "source": [
    "#Exercício de Estatística Descritiva - Conjunto de Dados Anscombe\n",
    "\n",
    "#1. Carregar conjunto de dados\n",
    "anscombe = sns.load_dataset(\"anscombe\")\n",
    "\n",
    "#2. Criar dicionário de dados\n",
    "anscombe_dict = anscombe.to_dict()\n",
    "\n",
    "#3. Descrever os dados usando estatísticas de tendência central e dispersão\n",
    "anscombe_description = anscombe.describe(include='all')\n",
    "print(\"Descrição do conjunto de dados Anscombe:\")\n",
    "print(anscombe_description)\n",
    "\n",
    "#4. Calcular estatísticas de forma separada para cada variável categórica\n",
    "categorical_stats = {}\n",
    "for column in anscombe.select_dtypes(include=['category']):\n",
    "    categorical_stats[column] = anscombe[column].value_counts()\n",
    "\n",
    "print(\"\\nEstatísticas de variáveis categóricas:\")\n",
    "print(categorical_stats)\n"
   ]
  },
  {
   "cell_type": "code",
   "execution_count": null,
   "id": "44404086-3713-4c16-a3a0-97283f6e4d90",
   "metadata": {},
   "outputs": [],
   "source": []
  }
 ],
 "metadata": {
  "kernelspec": {
   "display_name": "Python 3 (ipykernel)",
   "language": "python",
   "name": "python3"
  },
  "language_info": {
   "codemirror_mode": {
    "name": "ipython",
    "version": 3
   },
   "file_extension": ".py",
   "mimetype": "text/x-python",
   "name": "python",
   "nbconvert_exporter": "python",
   "pygments_lexer": "ipython3",
   "version": "3.11.4"
  }
 },
 "nbformat": 4,
 "nbformat_minor": 5
}
